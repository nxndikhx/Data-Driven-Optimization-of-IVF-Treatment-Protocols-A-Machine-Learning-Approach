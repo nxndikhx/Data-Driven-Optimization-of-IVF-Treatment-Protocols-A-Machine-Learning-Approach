{
 "cells": [
  {
   "cell_type": "code",
   "execution_count": 6,
   "id": "bb0f4226",
   "metadata": {
    "scrolled": false
   },
   "outputs": [
    {
     "name": "stdout",
     "output_type": "stream",
     "text": [
      "Enter the value for History of Idiopathic recurrent miscarriage (Y = 1, N = 0): 0\n",
      "Enter the value for Age of the patient: 25\n",
      "Enter the value for AMH levels (0 to 5 ng/mL): 4\n",
      "Enter the value for FSH levels (0 to 134.8 IU/L): 55\n",
      "Enter the value for LH ( 5 to 52.3IU/L): 15\n",
      "Enter the value for Number of miscarriages: 0\n",
      "Enter the value for Estradiol levels (0 to 400 pg/ml): 100\n",
      "Enter the value for Diabetes (Y = 1, N = 0): 0\n",
      "Enter the value for Hypothyroidism (Y = 1, N = 0): 0\n",
      "Enter the value for Hyperthyroidism (Y = 1, N = 0): 0\n",
      "Enter the value for Thrombophilic defects (Y = 1, N = 0): 0\n",
      "Enter the value for Antiphospholipid syndrome (Y = 1, N = 0): 0\n",
      "Based on the given inputs, the predicted IVF success rate is: Success\n"
     ]
    }
   ],
   "source": [
    "import pandas as pd\n",
    "import numpy as np\n",
    "from sklearn.preprocessing import StandardScaler\n",
    "\n",
    "# Load and preprocess the dataset\n",
    "file_path = 'dataset_for_mp.xlsx'\n",
    "df = pd.read_excel(file_path)\n",
    "\n",
    "# Identify non-numeric columns\n",
    "non_numeric_columns = ['Patient number']\n",
    "\n",
    "# Ensure the columns exist in the DataFrame\n",
    "non_numeric_columns = [col for col in non_numeric_columns if col in df.columns]\n",
    "\n",
    "df_numeric = df.drop(columns=non_numeric_columns)\n",
    "scaler = StandardScaler()\n",
    "df_normalized = scaler.fit_transform(df_numeric)\n",
    "\n",
    "# Define the state space, action space, and Q-table\n",
    "num_states = df_normalized.shape[0]\n",
    "num_actions = 2  # For simplicity, let's assume 2 actions: success (1) or failure (0)\n",
    "Q = np.zeros((num_states, num_actions))\n",
    "\n",
    "# Hyperparameters\n",
    "alpha = 0.1  # Learning rate\n",
    "gamma = 0.99  # Discount factor\n",
    "epsilon = 1.0  # Exploration-exploitation trade-off\n",
    "epsilon_decay = 0.995\n",
    "min_epsilon = 0.01\n",
    "num_episodes = 1000\n",
    "max_steps = 100\n",
    "\n",
    "# Q-Learning Algorithm\n",
    "for episode in range(num_episodes):\n",
    "    state = np.random.randint(0, num_states)\n",
    "    for step in range(max_steps):\n",
    "        if np.random.uniform(0, 1) < epsilon:\n",
    "            action = np.random.randint(0, num_actions)\n",
    "        else:\n",
    "            action = np.argmax(Q[state, :])\n",
    "        \n",
    "        next_state = (state + 1) % num_states  # Simplified state transition\n",
    "        reward = np.random.random()  # Simplified reward\n",
    "\n",
    "        Q[state, action] = Q[state, action] + alpha * (reward + gamma * np.max(Q[next_state, :]) - Q[state, action])\n",
    "        state = next_state\n",
    "        \n",
    "        done = (step == max_steps - 1)  # Simplified termination condition\n",
    "        if done:\n",
    "            break\n",
    "\n",
    "    epsilon = max(min_epsilon, epsilon * epsilon_decay)\n",
    "\n",
    "# Get input from user\n",
    "user_input = {}\n",
    "for column in df_numeric.columns:\n",
    "    user_input[column] = float(input(f\"Enter the value for {column}: \"))\n",
    "\n",
    "# Convert user input to DataFrame and normalize\n",
    "user_input_df = pd.DataFrame([user_input])\n",
    "user_input_normalized = scaler.transform(user_input_df)\n",
    "\n",
    "# Predict IVF success\n",
    "user_state = np.random.randint(0, num_states)  # Simplified state assignment\n",
    "action = np.argmax(Q[user_state, :])\n",
    "success = bool(action)\n",
    "\n",
    "print(\"Based on the given inputs, the predicted IVF success rate is:\", \"Success\" if success else \"Failure\")"
   ]
  },
  {
   "cell_type": "code",
   "execution_count": null,
   "id": "1f43ac52",
   "metadata": {},
   "outputs": [],
   "source": []
  }
 ],
 "metadata": {
  "kernelspec": {
   "display_name": "Python 3 (ipykernel)",
   "language": "python",
   "name": "python3"
  },
  "language_info": {
   "codemirror_mode": {
    "name": "ipython",
    "version": 3
   },
   "file_extension": ".py",
   "mimetype": "text/x-python",
   "name": "python",
   "nbconvert_exporter": "python",
   "pygments_lexer": "ipython3",
   "version": "3.11.5"
  }
 },
 "nbformat": 4,
 "nbformat_minor": 5
}
